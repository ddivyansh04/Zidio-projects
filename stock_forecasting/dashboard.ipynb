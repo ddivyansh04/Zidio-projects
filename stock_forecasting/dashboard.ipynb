import pandas as pd
import matplotlib.pyplot as plt
import seaborn as sns
import plotly.express as px

df = pd.read_csv("stock_data.csv")
df['Date'] = pd.to_datetime(df['Date'])
plt.figure(figsize=(10,5))
sns.lineplot(x='Date', y='Close', data=df)
plt.title("Stock Close Price Over Time")
plt.show()
